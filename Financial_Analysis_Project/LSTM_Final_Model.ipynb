{
 "cells": [
  {
   "cell_type": "markdown",
   "metadata": {},
   "source": [
    "# LSTM Stock Price Prediction"
   ]
  },
  {
   "cell_type": "code",
   "execution_count": 1,
   "metadata": {},
   "outputs": [
    {
     "name": "stderr",
     "output_type": "stream",
     "text": [
      "Using TensorFlow backend.\n"
     ]
    }
   ],
   "source": [
    "import nltk     \n",
    "import pandas as pd    \n",
    "from pandas import read_csv \n",
    "import matplotlib.pyplot as plt\n",
    "from pylab import rcParams    \n",
    "import tensorflow as tf\n",
    "from tensorflow import keras\n",
    "import csv    \n",
    "from datetime import datetime, timedelta \n",
    "import urllib.parse\n",
    "from matplotlib import rc\n",
    "from keras.models import Sequential, load_model\n",
    "from keras.layers import LSTM, Dense, Dropout\n",
    "import os\n",
    "import seaborn as sns\n",
    "import yfinance as yf\n",
    "import time\n",
    "from pandas_datareader import data\n",
    "from sklearn.preprocessing import MinMaxScaler\n",
    "import numpy as np\n",
    "from pandas.plotting import register_matplotlib_converters"
   ]
  },
  {
   "cell_type": "code",
   "execution_count": 2,
   "metadata": {},
   "outputs": [],
   "source": [
    "register_matplotlib_converters()\n",
    "sns.set(style='whitegrid', palette='muted',font_scale=1.5)\n",
    "rcParams['figure.figsize'] = 22,10"
   ]
  },
  {
   "cell_type": "markdown",
   "metadata": {},
   "source": [
    "## Data Frames"
   ]
  },
  {
   "cell_type": "code",
   "execution_count": 3,
   "metadata": {},
   "outputs": [
    {
     "data": {
      "text/plain": [
       "(2010, 6)"
      ]
     },
     "execution_count": 3,
     "metadata": {},
     "output_type": "execute_result"
    }
   ],
   "source": [
    "aapl = data.DataReader('AAPL',start='2012-01-05',end='2019-12-31',data_source='yahoo')\n",
    "aapl.shape"
   ]
  },
  {
   "cell_type": "code",
   "execution_count": 4,
   "metadata": {},
   "outputs": [
    {
     "name": "stdout",
     "output_type": "stream",
     "text": [
      "(2010, 1)\n"
     ]
    },
    {
     "data": {
      "text/plain": [
       "array([[14.92964268],\n",
       "       [15.08571434],\n",
       "       [15.0617857 ],\n",
       "       [15.11571407],\n",
       "       [15.09107113],\n",
       "       [15.04964256],\n",
       "       [14.99321365]])"
      ]
     },
     "execution_count": 4,
     "metadata": {},
     "output_type": "execute_result"
    }
   ],
   "source": [
    "#Preprocessing\n",
    "aapl = aapl['Close'].values #convert to numpy array\n",
    "aapl = aapl.reshape(-1,1) #reshape for keras to have 2 columns\n",
    "print(aapl.shape)\n",
    "aapl[:7]"
   ]
  },
  {
   "cell_type": "code",
   "execution_count": 5,
   "metadata": {},
   "outputs": [
    {
     "name": "stdout",
     "output_type": "stream",
     "text": [
      "(452, 1)\n",
      "(1608, 1)\n"
     ]
    },
    {
     "data": {
      "text/plain": [
       "1608"
      ]
     },
     "execution_count": 5,
     "metadata": {},
     "output_type": "execute_result"
    }
   ],
   "source": [
    "train = np.array(aapl[:int(aapl.shape[0]*0.8)]) #convert second value to intger\n",
    "test = np.array(aapl[int(aapl.shape[0]*0.8)-50:])# to fit a step of 50 in lstm step\n",
    "print(test.shape)\n",
    "print(train.shape)\n",
    "int(aapl.shape[0]*0.8)"
   ]
  },
  {
   "cell_type": "code",
   "execution_count": 6,
   "metadata": {},
   "outputs": [
    {
     "name": "stdout",
     "output_type": "stream",
     "text": [
      "[[0.02926309]\n",
      " [0.03391327]\n",
      " [0.03320031]\n",
      " [0.03480712]\n",
      " [0.03407288]\n",
      " [0.03283851]\n",
      " [0.0311572 ]]\n"
     ]
    }
   ],
   "source": [
    "scaler = MinMaxScaler(feature_range=(0,1)) # scale the data between 0 and 1\n",
    "train = scaler.fit_transform(train) # train and transform the data\n",
    "print(train[:7])"
   ]
  },
  {
   "cell_type": "code",
   "execution_count": 7,
   "metadata": {},
   "outputs": [
    {
     "name": "stdout",
     "output_type": "stream",
     "text": [
      "[[0.91046563]\n",
      " [0.89020491]\n",
      " [0.889758  ]\n",
      " [0.86018629]\n",
      " [0.84216024]\n",
      " [0.81303544]\n",
      " [0.87135948]]\n"
     ]
    }
   ],
   "source": [
    "test = scaler.transform(test) #only use transform so that this is not untrained\n",
    "print(test[:7])"
   ]
  },
  {
   "cell_type": "code",
   "execution_count": 8,
   "metadata": {},
   "outputs": [],
   "source": [
    "#using 50 enteries to predict the 1 entry\n",
    "def create_my_dataset(df):\n",
    "    x=[]\n",
    "    y=[]\n",
    "    for i in range(50,df.shape[0]):\n",
    "        x.append(df[i-50:i,0])\n",
    "        y.append(df[i,0])\n",
    "    x = np.array(x)\n",
    "    y = np.array(y)\n",
    "    return x,y"
   ]
  },
  {
   "cell_type": "code",
   "execution_count": 9,
   "metadata": {},
   "outputs": [
    {
     "data": {
      "text/plain": [
       "array([[0.02926309, 0.03391327, 0.03320031, 0.03480712, 0.03407288,\n",
       "        0.03283851, 0.0311572 , 0.03636073, 0.04105348, 0.03960628,\n",
       "        0.03167861, 0.03924447, 0.03179568, 0.05972864, 0.05756852,\n",
       "        0.06038841, 0.06648576, 0.07017822, 0.06986963, 0.06873105,\n",
       "        0.0735834 , 0.07814842, 0.08332004, 0.09167333, 0.10922054,\n",
       "        0.10948656, 0.11925514, 0.12655493, 0.11400908, 0.11884012,\n",
       "        0.11874436, 0.13229053, 0.13036445, 0.13392921, 0.14033518,\n",
       "        0.14389999, 0.15416868, 0.16164935, 0.1638095 , 0.16456505,\n",
       "        0.15177444, 0.14868847, 0.14914606, 0.16117056, 0.16455443,\n",
       "        0.17182233, 0.18895451, 0.21181167, 0.20753392, 0.20754455]])"
      ]
     },
     "execution_count": 9,
     "metadata": {},
     "output_type": "execute_result"
    }
   ],
   "source": [
    "x_train, y_train = create_my_dataset(train)\n",
    "x_train[:1]"
   ]
  },
  {
   "cell_type": "code",
   "execution_count": 10,
   "metadata": {},
   "outputs": [
    {
     "data": {
      "text/plain": [
       "array([0.22407024])"
      ]
     },
     "execution_count": 10,
     "metadata": {},
     "output_type": "execute_result"
    }
   ],
   "source": [
    "y_train[:1]"
   ]
  },
  {
   "cell_type": "code",
   "execution_count": 11,
   "metadata": {},
   "outputs": [
    {
     "name": "stdout",
     "output_type": "stream",
     "text": [
      "(1558, 50, 1)\n"
     ]
    }
   ],
   "source": [
    "import random\n",
    "random.seed(130)\n",
    "x_test, y_test = create_my_dataset(test)\n",
    "\n",
    "#reshape the test and train to 3d arrays\n",
    "x_train = np.reshape(x_train, (x_train.shape[0],x_train.shape[1],1))\n",
    "x_test = np.reshape(x_test, (x_test.shape[0],x_train.shape[1],1))\n",
    "print(x_train.shape)"
   ]
  },
  {
   "cell_type": "code",
   "execution_count": 12,
   "metadata": {},
   "outputs": [],
   "source": [
    "#tf.logging.set_verbosity(tf.logging.ERROR)\n",
    "model = tf.keras.models.Sequential()\n",
    "model.add(tf.keras.layers.LSTM(units=120, return_sequences=True, input_shape=(x_train.shape[1],1)))\n",
    "model.add(tf.keras.layers.Dropout(0.2))\n",
    "model.add(tf.keras.layers.LSTM(units=120,return_sequences=True))\n",
    "model.add(tf.keras.layers.Dropout(0.2))\n",
    "model.add(tf.keras.layers.LSTM(units=120))\n",
    "model.add(tf.keras.layers.Dropout(0.2))\n",
    "model.add(tf.keras.layers.Dense(units=1))"
   ]
  },
  {
   "cell_type": "code",
   "execution_count": 13,
   "metadata": {},
   "outputs": [],
   "source": [
    "model.compile(loss = 'mean_squared_error', optimizer='adam')"
   ]
  },
  {
   "cell_type": "code",
   "execution_count": 14,
   "metadata": {},
   "outputs": [
    {
     "data": {
      "text/plain": [
       "(1558, 50, 1)"
      ]
     },
     "execution_count": 14,
     "metadata": {},
     "output_type": "execute_result"
    }
   ],
   "source": [
    "x_train.shape"
   ]
  },
  {
   "cell_type": "code",
   "execution_count": 15,
   "metadata": {},
   "outputs": [
    {
     "name": "stdout",
     "output_type": "stream",
     "text": [
      "Epoch 1/40\n",
      "46/46 [==============================] - 8s 80ms/step - loss: 0.0352\n",
      "Epoch 2/40\n",
      "46/46 [==============================] - 4s 78ms/step - loss: 0.0022\n",
      "Epoch 3/40\n",
      "46/46 [==============================] - 4s 80ms/step - loss: 0.0023\n",
      "Epoch 4/40\n",
      "46/46 [==============================] - 4s 82ms/step - loss: 0.0025\n",
      "Epoch 5/40\n",
      "46/46 [==============================] - 5s 99ms/step - loss: 0.0020\n",
      "Epoch 6/40\n",
      "46/46 [==============================] - 4s 84ms/step - loss: 0.0019\n",
      "Epoch 7/40\n",
      "46/46 [==============================] - 4s 82ms/step - loss: 0.0020\n",
      "Epoch 8/40\n",
      "46/46 [==============================] - 4s 81ms/step - loss: 0.0020\n",
      "Epoch 9/40\n",
      "46/46 [==============================] - 4s 80ms/step - loss: 0.0017\n",
      "Epoch 10/40\n",
      "46/46 [==============================] - 4s 81ms/step - loss: 0.0018\n",
      "Epoch 11/40\n",
      "46/46 [==============================] - 4s 81ms/step - loss: 0.0015\n",
      "Epoch 12/40\n",
      "46/46 [==============================] - 4s 84ms/step - loss: 0.0019\n",
      "Epoch 13/40\n",
      "46/46 [==============================] - 4s 83ms/step - loss: 0.0016\n",
      "Epoch 14/40\n",
      "46/46 [==============================] - 4s 82ms/step - loss: 0.0016\n",
      "Epoch 15/40\n",
      "46/46 [==============================] - 4s 83ms/step - loss: 0.0018\n",
      "Epoch 16/40\n",
      "46/46 [==============================] - 4s 84ms/step - loss: 0.0016\n",
      "Epoch 17/40\n",
      "46/46 [==============================] - 4s 82ms/step - loss: 0.0017\n",
      "Epoch 18/40\n",
      "46/46 [==============================] - 4s 81ms/step - loss: 0.0013\n",
      "Epoch 19/40\n",
      "46/46 [==============================] - 4s 82ms/step - loss: 0.0012\n",
      "Epoch 20/40\n",
      "46/46 [==============================] - 4s 81ms/step - loss: 0.0013\n",
      "Epoch 21/40\n",
      "46/46 [==============================] - 4s 81ms/step - loss: 0.0012\n",
      "Epoch 22/40\n",
      "46/46 [==============================] - 4s 81ms/step - loss: 0.0014\n",
      "Epoch 23/40\n",
      "46/46 [==============================] - 4s 81ms/step - loss: 0.0011\n",
      "Epoch 24/40\n",
      "46/46 [==============================] - 4s 81ms/step - loss: 0.0012\n",
      "Epoch 25/40\n",
      "46/46 [==============================] - 4s 83ms/step - loss: 0.0012\n",
      "Epoch 26/40\n",
      "46/46 [==============================] - 4s 82ms/step - loss: 0.0012\n",
      "Epoch 27/40\n",
      "46/46 [==============================] - 4s 84ms/step - loss: 0.0013\n",
      "Epoch 28/40\n",
      "46/46 [==============================] - 4s 82ms/step - loss: 0.0012\n",
      "Epoch 29/40\n",
      "46/46 [==============================] - 4s 83ms/step - loss: 0.0010\n",
      "Epoch 30/40\n",
      "46/46 [==============================] - 4s 80ms/step - loss: 9.2259e-04\n",
      "Epoch 31/40\n",
      "46/46 [==============================] - 4s 80ms/step - loss: 0.0011\n",
      "Epoch 32/40\n",
      "46/46 [==============================] - 4s 83ms/step - loss: 0.0010\n",
      "Epoch 33/40\n",
      "46/46 [==============================] - 4s 80ms/step - loss: 0.0011\n",
      "Epoch 34/40\n",
      "46/46 [==============================] - 4s 82ms/step - loss: 0.0011\n",
      "Epoch 35/40\n",
      "46/46 [==============================] - 4s 81ms/step - loss: 0.0010\n",
      "Epoch 36/40\n",
      "46/46 [==============================] - 4s 80ms/step - loss: 0.0010\n",
      "Epoch 37/40\n",
      "46/46 [==============================] - 4s 81ms/step - loss: 9.0291e-04\n",
      "Epoch 38/40\n",
      "46/46 [==============================] - 4s 80ms/step - loss: 9.3579e-04\n",
      "Epoch 39/40\n",
      "46/46 [==============================] - 4s 80ms/step - loss: 8.5483e-04\n",
      "Epoch 40/40\n",
      "46/46 [==============================] - 4s 81ms/step - loss: 8.3394e-04\n"
     ]
    },
    {
     "data": {
      "text/plain": [
       "<tensorflow.python.keras.callbacks.History at 0x1a436e4990>"
      ]
     },
     "execution_count": 15,
     "metadata": {},
     "output_type": "execute_result"
    }
   ],
   "source": [
    "model.fit(x_train,y_train, epochs=40, batch_size=34)"
   ]
  },
  {
   "cell_type": "markdown",
   "metadata": {},
   "source": [
    "# Predictions"
   ]
  },
  {
   "cell_type": "code",
   "execution_count": 16,
   "metadata": {},
   "outputs": [
    {
     "name": "stdout",
     "output_type": "stream",
     "text": [
      "range(1608, 2010)\n"
     ]
    },
    {
     "data": {
      "image/png": "[encoded data removed]",
      "text/plain": [
       "<Figure size 864x432 with 1 Axes>"
      ]
     },
     "metadata": {},
     "output_type": "display_data"
    }
   ],
   "source": [
    "%matplotlib inline\n",
    "pred = model.predict(x_test)\n",
    "pred = scaler.inverse_transform(pred)\n",
    "\n",
    "register_matplotlib_converters()\n",
    "sns.set(style='whitegrid', palette='muted',font_scale=1.0)\n",
    "rcParams['figure.figsize'] = 22,10\n",
    "\n",
    "plt.subplots(figsize=(12,6))\n",
    "plt.plot(aapl,color='purple', label = 'Original Stockprice')\n",
    "plt.plot(range(len(y_train)+50, len(y_train)+ 50 +len(pred)), pred, color='orange', label='Predicted')\n",
    "plt.legend()\n",
    "print(range(len(y_train)+50, len(y_train)+50+len(pred)))"
   ]
  },
  {
   "cell_type": "code",
   "execution_count": 17,
   "metadata": {
    "scrolled": true
   },
   "outputs": [
    {
     "data": {
      "text/plain": [
       "<matplotlib.legend.Legend at 0x102abd090>"
      ]
     },
     "execution_count": 17,
     "metadata": {},
     "output_type": "execute_result"
    },
    {
     "data": {
      "image/png": "[encoded data removed]",
      "text/plain": [
       "<Figure size 864x432 with 1 Axes>"
      ]
     },
     "metadata": {},
     "output_type": "display_data"
    }
   ],
   "source": [
    "y_test_scaled = scaler.inverse_transform(y_test.reshape(-1,1))\n",
    "\n",
    "plt.subplots(figsize=(12,6))\n",
    "plt.plot(y_test_scaled,color='purple', label = 'True price')\n",
    "plt.plot(pred, color='orange',label='Predicted')\n",
    "plt.legend()"
   ]
  },
  {
   "cell_type": "code",
   "execution_count": 18,
   "metadata": {},
   "outputs": [],
   "source": [
    "from sklearn.metrics import mean_squared_error, r2_score ,mean_absolute_error, mean_absolute_error"
   ]
  },
  {
   "cell_type": "code",
   "execution_count": 19,
   "metadata": {},
   "outputs": [
    {
     "data": {
      "text/plain": [
       "2.9906882141631423"
      ]
     },
     "execution_count": 19,
     "metadata": {},
     "output_type": "execute_result"
    }
   ],
   "source": [
    "rmse = mean_squared_error(y_test_scaled,pred)\n",
    "rmse"
   ]
  },
  {
   "cell_type": "code",
   "execution_count": 20,
   "metadata": {},
   "outputs": [
    {
     "data": {
      "text/plain": [
       "0.947938710197686"
      ]
     },
     "execution_count": 20,
     "metadata": {},
     "output_type": "execute_result"
    }
   ],
   "source": [
    "r2 = r2_score(y_test_scaled,pred)\n",
    "r2"
   ]
  },
  {
   "cell_type": "code",
   "execution_count": 21,
   "metadata": {},
   "outputs": [
    {
     "data": {
      "text/plain": [
       "1.4129177586949286"
      ]
     },
     "execution_count": 21,
     "metadata": {},
     "output_type": "execute_result"
    }
   ],
   "source": [
    "#from sklearn.metrics import mean_absolute_error\n",
    "mae = mean_absolute_error(y_test_scaled,pred)\n",
    "mae"
   ]
  }
 ],
 "metadata": {
  "kernelspec": {
   "display_name": "Python 3",
   "language": "python",
   "name": "python3"
  },
  "language_info": {
   "codemirror_mode": {
    "name": "ipython",
    "version": 3
   },
   "file_extension": ".py",
   "mimetype": "text/x-python",
   "name": "python",
   "nbconvert_exporter": "python",
   "pygments_lexer": "ipython3",
   "version": "3.7.4"
  }
 },
 "nbformat": 4,
 "nbformat_minor": 2
}
