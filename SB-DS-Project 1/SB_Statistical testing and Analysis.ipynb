{
 "cells": [
  {
   "cell_type": "markdown",
   "metadata": {},
   "source": [
    "# STATISTICAL TESTING"
   ]
  },
  {
   "cell_type": "code",
   "execution_count": 86,
   "metadata": {},
   "outputs": [],
   "source": [
    "import numpy as np\n",
    "import pandas as pd\n",
    "import matplotlib.pyplot as plt\n",
    "from scipy import stats\n",
    "import seaborn as sns"
   ]
  },
  {
   "cell_type": "code",
   "execution_count": 87,
   "metadata": {},
   "outputs": [
    {
     "data": {
      "text/html": [
       "<div>\n",
       "<style scoped>\n",
       "    .dataframe tbody tr th:only-of-type {\n",
       "        vertical-align: middle;\n",
       "    }\n",
       "\n",
       "    .dataframe tbody tr th {\n",
       "        vertical-align: top;\n",
       "    }\n",
       "\n",
       "    .dataframe thead th {\n",
       "        text-align: right;\n",
       "    }\n",
       "</style>\n",
       "<table border=\"1\" class=\"dataframe\">\n",
       "  <thead>\n",
       "    <tr style=\"text-align: right;\">\n",
       "      <th></th>\n",
       "      <th>Unnamed: 0</th>\n",
       "      <th>age</th>\n",
       "      <th>sex</th>\n",
       "      <th>chest_pain</th>\n",
       "      <th>resting_blood_pressure</th>\n",
       "      <th>cholesterol</th>\n",
       "      <th>fasting_blood_sugar</th>\n",
       "      <th>rest_ecg</th>\n",
       "      <th>max_heart_rate_achieved</th>\n",
       "      <th>exercise_induced_angina</th>\n",
       "      <th>st_depression</th>\n",
       "      <th>st_slope</th>\n",
       "      <th>num_major_vessels</th>\n",
       "      <th>thalassemia</th>\n",
       "      <th>target</th>\n",
       "    </tr>\n",
       "  </thead>\n",
       "  <tbody>\n",
       "    <tr>\n",
       "      <td>0</td>\n",
       "      <td>0</td>\n",
       "      <td>63</td>\n",
       "      <td>1</td>\n",
       "      <td>3</td>\n",
       "      <td>145</td>\n",
       "      <td>233</td>\n",
       "      <td>1</td>\n",
       "      <td>0</td>\n",
       "      <td>150</td>\n",
       "      <td>0</td>\n",
       "      <td>2.3</td>\n",
       "      <td>0</td>\n",
       "      <td>0</td>\n",
       "      <td>1</td>\n",
       "      <td>1</td>\n",
       "    </tr>\n",
       "    <tr>\n",
       "      <td>1</td>\n",
       "      <td>1</td>\n",
       "      <td>37</td>\n",
       "      <td>1</td>\n",
       "      <td>2</td>\n",
       "      <td>130</td>\n",
       "      <td>250</td>\n",
       "      <td>0</td>\n",
       "      <td>1</td>\n",
       "      <td>187</td>\n",
       "      <td>0</td>\n",
       "      <td>3.5</td>\n",
       "      <td>0</td>\n",
       "      <td>0</td>\n",
       "      <td>2</td>\n",
       "      <td>1</td>\n",
       "    </tr>\n",
       "    <tr>\n",
       "      <td>2</td>\n",
       "      <td>2</td>\n",
       "      <td>41</td>\n",
       "      <td>0</td>\n",
       "      <td>1</td>\n",
       "      <td>130</td>\n",
       "      <td>204</td>\n",
       "      <td>0</td>\n",
       "      <td>0</td>\n",
       "      <td>172</td>\n",
       "      <td>0</td>\n",
       "      <td>1.4</td>\n",
       "      <td>2</td>\n",
       "      <td>0</td>\n",
       "      <td>2</td>\n",
       "      <td>1</td>\n",
       "    </tr>\n",
       "    <tr>\n",
       "      <td>3</td>\n",
       "      <td>3</td>\n",
       "      <td>56</td>\n",
       "      <td>1</td>\n",
       "      <td>1</td>\n",
       "      <td>120</td>\n",
       "      <td>236</td>\n",
       "      <td>0</td>\n",
       "      <td>1</td>\n",
       "      <td>178</td>\n",
       "      <td>0</td>\n",
       "      <td>0.8</td>\n",
       "      <td>2</td>\n",
       "      <td>0</td>\n",
       "      <td>2</td>\n",
       "      <td>1</td>\n",
       "    </tr>\n",
       "    <tr>\n",
       "      <td>4</td>\n",
       "      <td>4</td>\n",
       "      <td>57</td>\n",
       "      <td>0</td>\n",
       "      <td>0</td>\n",
       "      <td>120</td>\n",
       "      <td>354</td>\n",
       "      <td>0</td>\n",
       "      <td>1</td>\n",
       "      <td>163</td>\n",
       "      <td>1</td>\n",
       "      <td>0.6</td>\n",
       "      <td>2</td>\n",
       "      <td>0</td>\n",
       "      <td>2</td>\n",
       "      <td>1</td>\n",
       "    </tr>\n",
       "  </tbody>\n",
       "</table>\n",
       "</div>"
      ],
      "text/plain": [
       "   Unnamed: 0  age  sex  chest_pain  resting_blood_pressure  cholesterol  \\\n",
       "0           0   63    1           3                     145          233   \n",
       "1           1   37    1           2                     130          250   \n",
       "2           2   41    0           1                     130          204   \n",
       "3           3   56    1           1                     120          236   \n",
       "4           4   57    0           0                     120          354   \n",
       "\n",
       "   fasting_blood_sugar  rest_ecg  max_heart_rate_achieved  \\\n",
       "0                    1         0                      150   \n",
       "1                    0         1                      187   \n",
       "2                    0         0                      172   \n",
       "3                    0         1                      178   \n",
       "4                    0         1                      163   \n",
       "\n",
       "   exercise_induced_angina  st_depression  st_slope  num_major_vessels  \\\n",
       "0                        0            2.3         0                  0   \n",
       "1                        0            3.5         0                  0   \n",
       "2                        0            1.4         2                  0   \n",
       "3                        0            0.8         2                  0   \n",
       "4                        1            0.6         2                  0   \n",
       "\n",
       "   thalassemia  target  \n",
       "0            1       1  \n",
       "1            2       1  \n",
       "2            2       1  \n",
       "3            2       1  \n",
       "4            2       1  "
      ]
     },
     "execution_count": 87,
     "metadata": {},
     "output_type": "execute_result"
    }
   ],
   "source": [
    "df = pd.read_csv('DW2.csv')\n",
    "df.head()"
   ]
  },
  {
   "cell_type": "code",
   "execution_count": 88,
   "metadata": {},
   "outputs": [],
   "source": [
    "df1 = df[df['target'] ==1]\n",
    "df2 = df[df['target'] ==0]\n",
    "\n",
    "d1 = df1['resting_blood_pressure']\n",
    "d2 = df2['resting_blood_pressure']"
   ]
  },
  {
   "cell_type": "markdown",
   "metadata": {},
   "source": [
    "# Resting blood presssure\n",
    "### Shapiro Test for normal distrubution\n",
    "Ho = normally distributed\n",
    "\n",
    "Ha = non normal distribution"
   ]
  },
  {
   "cell_type": "code",
   "execution_count": 175,
   "metadata": {},
   "outputs": [],
   "source": [
    "def normal_dist(r1,alpha):\n",
    "    stat, p_value = stats.shapiro(r1)\n",
    "    print('p_value=%.3f'%(p_value))\n",
    "    if p_value > alpha:\n",
    "        print('Not enough evidence distribution is not normal (assume distribution is normal)')\n",
    "    else:\n",
    "        print('Not enough evidence distribution is normal (assume distribution is not normal)')     "
   ]
  },
  {
   "cell_type": "code",
   "execution_count": 176,
   "metadata": {},
   "outputs": [
    {
     "name": "stdout",
     "output_type": "stream",
     "text": [
      "p_value=0.013\n",
      "Not enough evidence distribution is normal (assume distribution is not normal)\n"
     ]
    }
   ],
   "source": [
    "normal_dist(d1,0.05)"
   ]
  },
  {
   "cell_type": "code",
   "execution_count": 177,
   "metadata": {},
   "outputs": [
    {
     "name": "stdout",
     "output_type": "stream",
     "text": [
      "p_value=0.001\n",
      "Not enough evidence distribution is normal (assume distribution is not normal)\n"
     ]
    }
   ],
   "source": [
    "normal_dist(d2,0.05)"
   ]
  },
  {
   "cell_type": "markdown",
   "metadata": {},
   "source": [
    "### Levene's Test for eqaul variance\n",
    "Ho = sample has equal distibution\n",
    "\n",
    "Ha = sample has unequal distibution"
   ]
  },
  {
   "cell_type": "code",
   "execution_count": 198,
   "metadata": {},
   "outputs": [],
   "source": [
    "def equal_variance(r1,r2,alpha):\n",
    "    stat, p_value = stats.levene(r1,r2)\n",
    "    print('p_value=%.3f'%(p_value))\n",
    "    if p_value > alpha:\n",
    "        print('Not enough evidence the distribution has unequal variance (assume distribution has equal variance)')\n",
    "    else:\n",
    "        print('Not enough evidence the distribution has equal variance (assume distribution has unequal variance)')     "
   ]
  },
  {
   "cell_type": "code",
   "execution_count": 179,
   "metadata": {},
   "outputs": [
    {
     "name": "stdout",
     "output_type": "stream",
     "text": [
      "p_value=0.421\n",
      "Not enough evidence the distribution has unequal variance (assume distribution has equal varaince)\n"
     ]
    }
   ],
   "source": [
    "equal_variance(d1,d2,alpha)"
   ]
  },
  {
   "cell_type": "code",
   "execution_count": 180,
   "metadata": {},
   "outputs": [
    {
     "data": {
      "image/png": "[encoded data removed]",
      "text/plain": [
       "<Figure size 360x252 with 1 Axes>"
      ]
     },
     "metadata": {
      "needs_background": "light"
     },
     "output_type": "display_data"
    }
   ],
   "source": [
    "_ = plt.figure(figsize=(5,3.5))\n",
    "_ = plt.hist(d1, bins=10,alpha=0.5)\n",
    "_ = plt.hist(d2, bins=10,alpha=0.5)\n",
    "_ = plt.xlabel('resting blood pressure')\n",
    "_ = plt.ylabel('number of people')\n",
    "_ = plt.title('Distribution resting blood pressure')\n",
    "_ = plt.savefig('rbp.jpg')"
   ]
  },
  {
   "cell_type": "code",
   "execution_count": 181,
   "metadata": {},
   "outputs": [],
   "source": [
    "def compare_2_groups(r1,r2,alpha,sample_size):\n",
    "    stat, p_value = stats.ttest_ind(r1,r2)\n",
    "    print('p_value=%.3f'%(p_value))\n",
    "    if p_value > alpha:\n",
    "        print('Not enough evidence they are from different distribution (fail to reject H0)')\n",
    "    else:\n",
    "        print('Not enough evidence they are from the same distribution ( reject H0)')     "
   ]
  },
  {
   "cell_type": "markdown",
   "metadata": {},
   "source": [
    "## t Test to check similarity of population of distribution\n",
    "Ho = mean of distribution 1 equal to mean of distribution 2\n",
    "\n",
    "Ha = mean of distribution 1 not equal to mean of distribution 2"
   ]
  },
  {
   "cell_type": "code",
   "execution_count": 192,
   "metadata": {},
   "outputs": [
    {
     "name": "stdout",
     "output_type": "stream",
     "text": [
      "p_value=0.069\n",
      "Not enough evidence they are from different distribution (fail to reject H0)\n"
     ]
    }
   ],
   "source": [
    "sample_size=300\n",
    "target1 = np.random.choice(dc1, sample_size)\n",
    "target2 = np.random.choice(dc2, sample_size)\n",
    "compare_2_groups(target1,target2,0.05,sample_size)"
   ]
  },
  {
   "cell_type": "markdown",
   "metadata": {},
   "source": [
    "## Bootstrap distribution of 10000 random samples from Resting blood presssure sample"
   ]
  },
  {
   "cell_type": "code",
   "execution_count": 183,
   "metadata": {},
   "outputs": [],
   "source": [
    "np.random.seed(47)\n",
    "N_rep = 10000\n",
    "\n",
    "def bootstrap_rep(data, func):\n",
    "    bs_sample = np.random.choice(data, len(data))\n",
    "    return func(bs_sample)\n",
    "\n",
    "def draw_bs_reps(data, func, size=1):\n",
    "    \n",
    "    # Initialize array of replicates: bs_replicates\n",
    "    bs_replicates = np.empty(size)\n",
    "\n",
    "    # Generate replicates\n",
    "    for i in range(size):\n",
    "        bs_replicates[i] = bootstrap_rep(data, func)\n",
    "\n",
    "    return bs_replicates"
   ]
  },
  {
   "cell_type": "code",
   "execution_count": 184,
   "metadata": {},
   "outputs": [
    {
     "data": {
      "image/png": "[encoded data removed]",
      "text/plain": [
       "<Figure size 360x252 with 1 Axes>"
      ]
     },
     "metadata": {
      "needs_background": "light"
     },
     "output_type": "display_data"
    }
   ],
   "source": [
    "np.random.seed(47)\n",
    "# Take 10,000 bootstrap replicates of the mean: bs_replicates\n",
    "bs_replicate1 = draw_bs_reps(d1, np.mean, size=10000)\n",
    "bs_replicate2 = draw_bs_reps(d2, np.mean, size=10000)\n",
    "\n",
    "# Make a histogram of the results\n",
    "_ = plt.figure(figsize=(5,3.5))\n",
    "_ = plt.hist(bs_replicate1, bins=50, density=True,alpha=0.5)\n",
    "_ = plt.hist(bs_replicate2, bins=50, density=True,alpha=0.5)\n",
    "_ = plt.title('Bootstrap distribution resting bp')\n",
    "_ = plt.xlabel('resting blood pressure')\n",
    "_ = plt.ylabel('PDF')\n",
    "_ = plt.savefig('rbp_distmean.jpg')"
   ]
  },
  {
   "cell_type": "code",
   "execution_count": 40,
   "metadata": {},
   "outputs": [
    {
     "name": "stdout",
     "output_type": "stream",
     "text": [
      "1.984 > 0.048\n",
      "Reject Null hypothesis, average resting blood pressure in patients with heart disease and those \n",
      "without are significantly different\n"
     ]
    }
   ],
   "source": [
    "T,pvalue = stats.ttest_ind(d1, d2, equal_var=True)\n",
    "print(abs(round(T,3)),'>',round(pvalue,3))\n",
    "print('Reject Null hypothesis, average resting blood pressure in patients with heart disease and those \\nwithout are significantly different')"
   ]
  },
  {
   "cell_type": "markdown",
   "metadata": {},
   "source": [
    "# Cholesterol\n",
    "### Shapiro Test for normal distrubution\n",
    "Ho = normally distributed\n",
    "\n",
    "Ha = non normal distribution"
   ]
  },
  {
   "cell_type": "code",
   "execution_count": 41,
   "metadata": {},
   "outputs": [],
   "source": [
    "dc1 = df1['cholesterol']\n",
    "dc2 = df2['cholesterol']"
   ]
  },
  {
   "cell_type": "code",
   "execution_count": 185,
   "metadata": {},
   "outputs": [
    {
     "name": "stdout",
     "output_type": "stream",
     "text": [
      "p_value=0.025\n",
      "Not enough evidence distribution is normal (assume distribution is not normal)\n"
     ]
    }
   ],
   "source": [
    "normal_dist(dc1,0.05)"
   ]
  },
  {
   "cell_type": "code",
   "execution_count": 194,
   "metadata": {},
   "outputs": [
    {
     "name": "stdout",
     "output_type": "stream",
     "text": [
      "p_value=0.799\n",
      "Not enough evidence distribution is not normal (assume distribution is normal)\n"
     ]
    }
   ],
   "source": [
    "normal_dist(dc2,0.05)"
   ]
  },
  {
   "cell_type": "markdown",
   "metadata": {},
   "source": [
    "### Levene's Test for eqaul variance\n",
    "Ho = sample has equal distibution\n",
    "\n",
    "Ha = sample has unequal distibution"
   ]
  },
  {
   "cell_type": "code",
   "execution_count": 199,
   "metadata": {},
   "outputs": [
    {
     "name": "stdout",
     "output_type": "stream",
     "text": [
      "p_value=0.559\n",
      "Not enough evidence the distribution has unequal variance (assume distribution has equal variance)\n"
     ]
    }
   ],
   "source": [
    "equal_variance(dc1,dc2,0.05)"
   ]
  },
  {
   "cell_type": "code",
   "execution_count": 43,
   "metadata": {},
   "outputs": [
    {
     "data": {
      "image/png": "[encoded data removed]",
      "text/plain": [
       "<Figure size 360x252 with 1 Axes>"
      ]
     },
     "metadata": {
      "needs_background": "light"
     },
     "output_type": "display_data"
    }
   ],
   "source": [
    "_ = plt.figure(figsize=(5,3.5))\n",
    "_ = plt.hist(dc1, bins=10,alpha=0.5)\n",
    "_ = plt.hist(dc2, bins=10,alpha=0.5)\n",
    "_ = plt.xlabel('cholesterol')\n",
    "_ = plt.ylabel('number of people')\n",
    "_ = plt.title('Distribution of patient cholesterol')\n",
    "_ = plt.savefig('col.jpg')"
   ]
  },
  {
   "cell_type": "markdown",
   "metadata": {},
   "source": [
    "## t Test to check similarity of population of distribution\n",
    "Ho = mean of distribution 1 equal to mean of distribution 2\n",
    "\n",
    "Ha = mean of distribution 1 not equal to mean of distribution 2"
   ]
  },
  {
   "cell_type": "code",
   "execution_count": 201,
   "metadata": {},
   "outputs": [
    {
     "name": "stdout",
     "output_type": "stream",
     "text": [
      "p_value=0.006\n",
      "Not enough evidence they are from the same distribution ( reject H0)\n"
     ]
    }
   ],
   "source": [
    "sample_size=300\n",
    "target1 = np.random.choice(dc1, sample_size)\n",
    "target2 = np.random.choice(d2, sample_size)\n",
    "compare_2_groups(target1,target2,0.05,sample_size)"
   ]
  },
  {
   "cell_type": "markdown",
   "metadata": {},
   "source": [
    "## Bootstrap distribution of 10000 random samples from Cholesterol sample"
   ]
  },
  {
   "cell_type": "code",
   "execution_count": 44,
   "metadata": {},
   "outputs": [
    {
     "data": {
      "image/png": "[encoded data removed]",
      "text/plain": [
       "<Figure size 360x252 with 1 Axes>"
      ]
     },
     "metadata": {
      "needs_background": "light"
     },
     "output_type": "display_data"
    }
   ],
   "source": [
    "np.random.seed(47)\n",
    "# Take 10,000 bootstrap replicates of the mean: bs_replicates\n",
    "bs_replicatec1 = draw_bs_reps(dc1, np.mean, size=10000)\n",
    "bs_replicatec2 = draw_bs_reps(dc2, np.mean, size=10000)\n",
    "\n",
    "# Make a histogram of the results\n",
    "_ = plt.figure(figsize=(5,3.5))\n",
    "_ = plt.hist(bs_replicatec1, bins=50, density=True,alpha=0.5)\n",
    "_ = plt.hist(bs_replicatec2, bins=50, density=True,alpha=0.5)\n",
    "_ = plt.title('Bootstrap distribution Cholesterol')\n",
    "_ = plt.xlabel('cholesterol')\n",
    "_ = plt.ylabel('PDF')\n",
    "_ = plt.savefig('col_distmean.jpg')"
   ]
  },
  {
   "cell_type": "markdown",
   "metadata": {},
   "source": [
    "# Max heart rate\n",
    "### Shapiro Test for normal distrubution\n",
    "Ho = normally distributed\n",
    "\n",
    "Ha = non normal distribution"
   ]
  },
  {
   "cell_type": "code",
   "execution_count": 47,
   "metadata": {},
   "outputs": [
    {
     "name": "stdout",
     "output_type": "stream",
     "text": [
      "since 0.098 > 0.05 the distribution is non normal\n"
     ]
    }
   ],
   "source": [
    "dm1 = df1['max_heart_rate_achieved']\n",
    "dm2 = df2['max_heart_rate_achieved']"
   ]
  },
  {
   "cell_type": "code",
   "execution_count": 195,
   "metadata": {},
   "outputs": [
    {
     "name": "stdout",
     "output_type": "stream",
     "text": [
      "p_value=0.001\n",
      "Not enough evidence distribution is normal (assume distribution is not normal)\n"
     ]
    }
   ],
   "source": [
    "normal_dist(dm1,0.05)"
   ]
  },
  {
   "cell_type": "code",
   "execution_count": 196,
   "metadata": {},
   "outputs": [
    {
     "name": "stdout",
     "output_type": "stream",
     "text": [
      "p_value=0.098\n",
      "Not enough evidence distribution is not normal (assume distribution is normal)\n"
     ]
    }
   ],
   "source": [
    "normal_dist(dm2,0.05)"
   ]
  },
  {
   "cell_type": "markdown",
   "metadata": {},
   "source": [
    "### Levene's Test for eqaul variance\n",
    "Ho = sample has equal distibution\n",
    "\n",
    "Ha = sample has unequal distibution"
   ]
  },
  {
   "cell_type": "code",
   "execution_count": 197,
   "metadata": {},
   "outputs": [
    {
     "name": "stdout",
     "output_type": "stream",
     "text": [
      "p_value=0.039\n",
      "Not enough evidence the distribution has equal variance (assume distribution has unequal varaince)\n"
     ]
    }
   ],
   "source": [
    "equal_variance(dm1,dm2,0.05)"
   ]
  },
  {
   "cell_type": "markdown",
   "metadata": {},
   "source": [
    "## t Test to check similarity of population of distribution\n",
    "Ho = mean of distribution 1 equal to mean of distribution 2\n",
    "\n",
    "Ha = mean of distribution 1 not equal to mean of distribution 2"
   ]
  },
  {
   "cell_type": "code",
   "execution_count": 200,
   "metadata": {},
   "outputs": [
    {
     "name": "stdout",
     "output_type": "stream",
     "text": [
      "p_value=0.000\n",
      "Not enough evidence they are from the same distribution ( reject H0)\n"
     ]
    }
   ],
   "source": [
    "sample_size=300\n",
    "target1 = np.random.choice(dm1, sample_size)\n",
    "target2 = np.random.choice(dm2, sample_size)\n",
    "compare_2_groups(target1,target2,0.05,sample_size)"
   ]
  },
  {
   "cell_type": "code",
   "execution_count": 48,
   "metadata": {},
   "outputs": [
    {
     "data": {
      "image/png": "[encoded data removed]",
      "text/plain": [
       "<Figure size 360x252 with 1 Axes>"
      ]
     },
     "metadata": {
      "needs_background": "light"
     },
     "output_type": "display_data"
    }
   ],
   "source": [
    "_ = plt.figure(figsize=(5,3.5))\n",
    "_ = plt.hist(dm1, bins=10,alpha=0.5)\n",
    "_ = plt.hist(dm2, bins=10,alpha=0.5)\n",
    "_ = plt.xlabel('max heart rate achieved')\n",
    "_ = plt.ylabel('number of people')\n",
    "_ = plt.title('Distribution of patient max heart rate')\n",
    "_ = plt.savefig('mhr.jpg')"
   ]
  },
  {
   "cell_type": "markdown",
   "metadata": {},
   "source": [
    "## Bootstrap distribution of 10000 random samples from Max heart rate sample"
   ]
  },
  {
   "cell_type": "code",
   "execution_count": 202,
   "metadata": {},
   "outputs": [
    {
     "data": {
      "image/png": "[encoded data removed]",
      "text/plain": [
       "<Figure size 360x252 with 1 Axes>"
      ]
     },
     "metadata": {
      "needs_background": "light"
     },
     "output_type": "display_data"
    }
   ],
   "source": [
    "np.random.seed(47)\n",
    "# Take 10,000 bootstrap replicates of the mean: bs_replicates\n",
    "bs_replicatem1 = draw_bs_reps(dm1, np.mean, size=10000)\n",
    "bs_replicatem2 = draw_bs_reps(dm2, np.mean, size=10000)\n",
    "\n",
    "# Make a histogram of the results\n",
    "_ = plt.figure(figsize=(5,3.5))\n",
    "_ = plt.hist(bs_replicatem1, bins=50, density=True,alpha=0.5)\n",
    "_ = plt.hist(bs_replicatem2, bins=50, density=True,alpha=0.5)\n",
    "_ = plt.title('Bootstrap distribution max heart rate')\n",
    "_ = plt.xlabel('mean max heart rate')\n",
    "_ = plt.ylabel('PDF')\n",
    "_ = plt.savefig('mhr_distmeans.jpg')"
   ]
  },
  {
   "cell_type": "markdown",
   "metadata": {},
   "source": [
    "# St Depression\n",
    "### Shapiro Test for normal distrubution\n",
    "Ho = normally distributed\n",
    "\n",
    "Ha = non normal distribution"
   ]
  },
  {
   "cell_type": "code",
   "execution_count": 203,
   "metadata": {},
   "outputs": [],
   "source": [
    "ds1 = df1['st_depression']\n",
    "ds2 = df2['st_depression']"
   ]
  },
  {
   "cell_type": "code",
   "execution_count": 204,
   "metadata": {},
   "outputs": [
    {
     "name": "stdout",
     "output_type": "stream",
     "text": [
      "p_value=0.000\n",
      "Not enough evidence distribution is normal (assume distribution is not normal)\n"
     ]
    }
   ],
   "source": [
    "normal_dist(ds1,0.05)"
   ]
  },
  {
   "cell_type": "code",
   "execution_count": 205,
   "metadata": {},
   "outputs": [
    {
     "name": "stdout",
     "output_type": "stream",
     "text": [
      "p_value=0.000\n",
      "Not enough evidence distribution is normal (assume distribution is not normal)\n"
     ]
    }
   ],
   "source": [
    "normal_dist(ds2,0.05)"
   ]
  },
  {
   "cell_type": "markdown",
   "metadata": {},
   "source": [
    "### Levene's Test for eqaul variance\n",
    "Ho = sample has equal distibution\n",
    "\n",
    "Ha = sample has unequal distibution"
   ]
  },
  {
   "cell_type": "code",
   "execution_count": 206,
   "metadata": {},
   "outputs": [
    {
     "name": "stdout",
     "output_type": "stream",
     "text": [
      "p_value=0.000\n",
      "Not enough evidence the distribution has equal variance (assume distribution has unequal variance)\n"
     ]
    }
   ],
   "source": [
    "equal_variance(ds1,ds2,0.05)"
   ]
  },
  {
   "cell_type": "code",
   "execution_count": 53,
   "metadata": {},
   "outputs": [
    {
     "data": {
      "image/png": "[encoded data removed]",
      "text/plain": [
       "<Figure size 360x252 with 1 Axes>"
      ]
     },
     "metadata": {
      "needs_background": "light"
     },
     "output_type": "display_data"
    }
   ],
   "source": [
    "_ = plt.figure(figsize=(5,3.5))\n",
    "_ = plt.hist(ds1, bins=10,alpha=0.5)\n",
    "_ = plt.hist(ds2, bins=10,alpha=0.5)\n",
    "_ = plt.xlabel('st depression')\n",
    "_ = plt.ylabel('number of people')\n",
    "_ = plt.title('Distribution of ST depression')\n",
    "_ = plt.savefig('std.jpg')"
   ]
  },
  {
   "cell_type": "markdown",
   "metadata": {},
   "source": [
    "## t Test to check similarity of population of distribution\n",
    "Ho = mean of distribution 1 equal to mean of distribution 2\n",
    "\n",
    "Ha = mean of distribution 1 not equal to mean of distribution 2"
   ]
  },
  {
   "cell_type": "code",
   "execution_count": 207,
   "metadata": {},
   "outputs": [
    {
     "name": "stdout",
     "output_type": "stream",
     "text": [
      "p_value=0.000\n",
      "Not enough evidence they are from the same distribution ( reject H0)\n"
     ]
    }
   ],
   "source": [
    "sample_size=300\n",
    "target1 = np.random.choice(ds1, sample_size)\n",
    "target2 = np.random.choice(ds2, sample_size)\n",
    "compare_2_groups(target1,target2,0.05,sample_size)"
   ]
  },
  {
   "cell_type": "markdown",
   "metadata": {},
   "source": [
    "## Bootstrap distribution of 10000 random samples from St_Depression sample"
   ]
  },
  {
   "cell_type": "code",
   "execution_count": 54,
   "metadata": {},
   "outputs": [
    {
     "data": {
      "image/png": "[encoded data removed]",
      "text/plain": [
       "<Figure size 360x252 with 1 Axes>"
      ]
     },
     "metadata": {
      "needs_background": "light"
     },
     "output_type": "display_data"
    }
   ],
   "source": [
    "np.random.seed(47)\n",
    "# Take 10,000 bootstrap replicates of the mean: bs_replicates\n",
    "bs_replicated1 = draw_bs_reps(ds1, np.mean, size=10000)\n",
    "bs_replicated2 = draw_bs_reps(ds2, np.mean, size=10000)\n",
    "\n",
    "# Make a histogram of the results\n",
    "_ = plt.figure(figsize=(5,3.5))\n",
    "_ = plt.hist(bs_replicated1, bins=50, density=True,alpha=0.5)\n",
    "_ = plt.hist(bs_replicated2, bins=50, density=True,alpha=0.5)\n",
    "_ = plt.title('Bootstrap distribution ST depression')\n",
    "_ = plt.xlabel('mean ST depression')\n",
    "_ = plt.ylabel('PDF')\n",
    "_ = plt.savefig('std_distmean.jpg')"
   ]
  },
  {
   "cell_type": "markdown",
   "metadata": {},
   "source": [
    "## Correlation of discrete variables"
   ]
  },
  {
   "cell_type": "code",
   "execution_count": 208,
   "metadata": {},
   "outputs": [
    {
     "data": {
      "text/html": [
       "<div>\n",
       "<style scoped>\n",
       "    .dataframe tbody tr th:only-of-type {\n",
       "        vertical-align: middle;\n",
       "    }\n",
       "\n",
       "    .dataframe tbody tr th {\n",
       "        vertical-align: top;\n",
       "    }\n",
       "\n",
       "    .dataframe thead th {\n",
       "        text-align: right;\n",
       "    }\n",
       "</style>\n",
       "<table border=\"1\" class=\"dataframe\">\n",
       "  <thead>\n",
       "    <tr style=\"text-align: right;\">\n",
       "      <th></th>\n",
       "      <th>resting_blood_pressure</th>\n",
       "      <th>cholesterol</th>\n",
       "      <th>max_heart_rate_achieved</th>\n",
       "      <th>st_depression</th>\n",
       "    </tr>\n",
       "  </thead>\n",
       "  <tbody>\n",
       "    <tr>\n",
       "      <td>resting_blood_pressure</td>\n",
       "      <td>1.000000</td>\n",
       "      <td>0.137923</td>\n",
       "      <td>-0.070210</td>\n",
       "      <td>0.152445</td>\n",
       "    </tr>\n",
       "    <tr>\n",
       "      <td>cholesterol</td>\n",
       "      <td>0.137923</td>\n",
       "      <td>1.000000</td>\n",
       "      <td>-0.042031</td>\n",
       "      <td>0.043844</td>\n",
       "    </tr>\n",
       "    <tr>\n",
       "      <td>max_heart_rate_achieved</td>\n",
       "      <td>-0.070210</td>\n",
       "      <td>-0.042031</td>\n",
       "      <td>1.000000</td>\n",
       "      <td>-0.357315</td>\n",
       "    </tr>\n",
       "    <tr>\n",
       "      <td>st_depression</td>\n",
       "      <td>0.152445</td>\n",
       "      <td>0.043844</td>\n",
       "      <td>-0.357315</td>\n",
       "      <td>1.000000</td>\n",
       "    </tr>\n",
       "  </tbody>\n",
       "</table>\n",
       "</div>"
      ],
      "text/plain": [
       "                         resting_blood_pressure  cholesterol  \\\n",
       "resting_blood_pressure                 1.000000     0.137923   \n",
       "cholesterol                            0.137923     1.000000   \n",
       "max_heart_rate_achieved               -0.070210    -0.042031   \n",
       "st_depression                          0.152445     0.043844   \n",
       "\n",
       "                         max_heart_rate_achieved  st_depression  \n",
       "resting_blood_pressure                 -0.070210       0.152445  \n",
       "cholesterol                            -0.042031       0.043844  \n",
       "max_heart_rate_achieved                 1.000000      -0.357315  \n",
       "st_depression                          -0.357315       1.000000  "
      ]
     },
     "execution_count": 208,
     "metadata": {},
     "output_type": "execute_result"
    }
   ],
   "source": [
    "corr = Dis_var_corr.corr()\n",
    "corr"
   ]
  },
  {
   "cell_type": "code",
   "execution_count": 59,
   "metadata": {},
   "outputs": [
    {
     "data": {
      "image/png": "[encoded data removed]",
      "text/plain": [
       "<Figure size 720x720 with 20 Axes>"
      ]
     },
     "metadata": {
      "needs_background": "light"
     },
     "output_type": "display_data"
    }
   ],
   "source": [
    "#checking for linear correlation between discrete continuous variables and heart disease\n",
    "Dis_var_corr = df[['resting_blood_pressure','cholesterol','max_heart_rate_achieved','st_depression']]\n",
    "fig = sns.pairplot(Dis_var_corr)\n",
    "fig.savefig(\"corr.png\")"
   ]
  },
  {
   "cell_type": "markdown",
   "metadata": {},
   "source": [
    "### Chi square test of independence for categorical data checking whether heart disease is inpendent from fasting blood sugar\n",
    "\n",
    "null hypothesis: there is independence between heart disease and fasting blood sugar\n",
    "\n",
    "alternate hypothesis: there is not independence between heart disease and fasting blood sugar"
   ]
  },
  {
   "cell_type": "code",
   "execution_count": 217,
   "metadata": {},
   "outputs": [
    {
     "data": {
      "text/html": [
       "<div>\n",
       "<style scoped>\n",
       "    .dataframe tbody tr th:only-of-type {\n",
       "        vertical-align: middle;\n",
       "    }\n",
       "\n",
       "    .dataframe tbody tr th {\n",
       "        vertical-align: top;\n",
       "    }\n",
       "\n",
       "    .dataframe thead th {\n",
       "        text-align: right;\n",
       "    }\n",
       "</style>\n",
       "<table border=\"1\" class=\"dataframe\">\n",
       "  <thead>\n",
       "    <tr style=\"text-align: right;\">\n",
       "      <th>target</th>\n",
       "      <th>0</th>\n",
       "      <th>1</th>\n",
       "    </tr>\n",
       "    <tr>\n",
       "      <th>fasting_blood_sugar</th>\n",
       "      <th></th>\n",
       "      <th></th>\n",
       "    </tr>\n",
       "  </thead>\n",
       "  <tbody>\n",
       "    <tr>\n",
       "      <td>0</td>\n",
       "      <td>110</td>\n",
       "      <td>140</td>\n",
       "    </tr>\n",
       "    <tr>\n",
       "      <td>1</td>\n",
       "      <td>20</td>\n",
       "      <td>22</td>\n",
       "    </tr>\n",
       "  </tbody>\n",
       "</table>\n",
       "</div>"
      ],
      "text/plain": [
       "target                 0    1\n",
       "fasting_blood_sugar          \n",
       "0                    110  140\n",
       "1                     20   22"
      ]
     },
     "execution_count": 217,
     "metadata": {},
     "output_type": "execute_result"
    }
   ],
   "source": [
    "df_fbs = pd.crosstab(df['fasting_blood_sugar'],df['target'])\n",
    "df_fbs"
   ]
  },
  {
   "cell_type": "code",
   "execution_count": 223,
   "metadata": {},
   "outputs": [
    {
     "name": "stdout",
     "output_type": "stream",
     "text": [
      "0.01 > 0.0\n",
      "Reject Null hypothesis, there is a relationship between fasting blood sugar and heart disease\n"
     ]
    }
   ],
   "source": [
    "alpha = 0.01\n",
    "statistic,pval,deg_of_freed,exp_cnt = stats.chi2_contingency(df_fbs)\n",
    "print(alpha ,'>', round(pvalue,3))\n",
    "print('Reject Null hypothesis, there is a relationship between fasting blood sugar and heart disease')"
   ]
  },
  {
   "cell_type": "markdown",
   "metadata": {},
   "source": [
    "### Chi square test of independence for categorical data checking whether heart disease is inpendent from exercise induced angina\n",
    "\n",
    "null hypothesis: there is independence between heart disease and exercise induced angina\n",
    "\n",
    "alternate hypothesis: there is not independence between heart disease and exercise induced angina"
   ]
  },
  {
   "cell_type": "code",
   "execution_count": 224,
   "metadata": {},
   "outputs": [
    {
     "data": {
      "text/html": [
       "<div>\n",
       "<style scoped>\n",
       "    .dataframe tbody tr th:only-of-type {\n",
       "        vertical-align: middle;\n",
       "    }\n",
       "\n",
       "    .dataframe tbody tr th {\n",
       "        vertical-align: top;\n",
       "    }\n",
       "\n",
       "    .dataframe thead th {\n",
       "        text-align: right;\n",
       "    }\n",
       "</style>\n",
       "<table border=\"1\" class=\"dataframe\">\n",
       "  <thead>\n",
       "    <tr style=\"text-align: right;\">\n",
       "      <th>target</th>\n",
       "      <th>0</th>\n",
       "      <th>1</th>\n",
       "    </tr>\n",
       "    <tr>\n",
       "      <th>exercise_induced_angina</th>\n",
       "      <th></th>\n",
       "      <th></th>\n",
       "    </tr>\n",
       "  </thead>\n",
       "  <tbody>\n",
       "    <tr>\n",
       "      <td>0</td>\n",
       "      <td>58</td>\n",
       "      <td>139</td>\n",
       "    </tr>\n",
       "    <tr>\n",
       "      <td>1</td>\n",
       "      <td>72</td>\n",
       "      <td>23</td>\n",
       "    </tr>\n",
       "  </tbody>\n",
       "</table>\n",
       "</div>"
      ],
      "text/plain": [
       "target                    0    1\n",
       "exercise_induced_angina         \n",
       "0                        58  139\n",
       "1                        72   23"
      ]
     },
     "execution_count": 224,
     "metadata": {},
     "output_type": "execute_result"
    }
   ],
   "source": [
    "df_exin = pd.crosstab(df['exercise_induced_angina'],df['target'])\n",
    "df_exin"
   ]
  },
  {
   "cell_type": "code",
   "execution_count": 225,
   "metadata": {},
   "outputs": [
    {
     "name": "stdout",
     "output_type": "stream",
     "text": [
      "0.01 > 0.0\n",
      "Reject Null hypothesis, there is relationship between exercise induced angina and heart disease\n"
     ]
    }
   ],
   "source": [
    "statistic,pval,deg_of_freed,exp_cnt = stats.chi2_contingency(df_exin)\n",
    "print(alpha ,'>', round(pvalue,3))\n",
    "print('Reject Null hypothesis, there is relationship between exercise induced angina and heart disease')"
   ]
  },
  {
   "cell_type": "markdown",
   "metadata": {},
   "source": [
    "### Chi square test of independence for categorical data checking whether heart disease is inpendent from thalassemia \n",
    "\n",
    "Age and Experience are two independent variables\n",
    "\n",
    "null hypothesis: heart disease and thalassemia are independent variables\n",
    "\n",
    "alternate hypothesis:  heart disease and thalassemia are dependent variables"
   ]
  },
  {
   "cell_type": "code",
   "execution_count": 226,
   "metadata": {},
   "outputs": [
    {
     "data": {
      "text/html": [
       "<div>\n",
       "<style scoped>\n",
       "    .dataframe tbody tr th:only-of-type {\n",
       "        vertical-align: middle;\n",
       "    }\n",
       "\n",
       "    .dataframe tbody tr th {\n",
       "        vertical-align: top;\n",
       "    }\n",
       "\n",
       "    .dataframe thead th {\n",
       "        text-align: right;\n",
       "    }\n",
       "</style>\n",
       "<table border=\"1\" class=\"dataframe\">\n",
       "  <thead>\n",
       "    <tr style=\"text-align: right;\">\n",
       "      <th>target</th>\n",
       "      <th>0</th>\n",
       "      <th>1</th>\n",
       "    </tr>\n",
       "    <tr>\n",
       "      <th>thalassemia</th>\n",
       "      <th></th>\n",
       "      <th></th>\n",
       "    </tr>\n",
       "  </thead>\n",
       "  <tbody>\n",
       "    <tr>\n",
       "      <td>1</td>\n",
       "      <td>12</td>\n",
       "      <td>6</td>\n",
       "    </tr>\n",
       "    <tr>\n",
       "      <td>2</td>\n",
       "      <td>35</td>\n",
       "      <td>129</td>\n",
       "    </tr>\n",
       "    <tr>\n",
       "      <td>3</td>\n",
       "      <td>83</td>\n",
       "      <td>27</td>\n",
       "    </tr>\n",
       "  </tbody>\n",
       "</table>\n",
       "</div>"
      ],
      "text/plain": [
       "target        0    1\n",
       "thalassemia         \n",
       "1            12    6\n",
       "2            35  129\n",
       "3            83   27"
      ]
     },
     "execution_count": 226,
     "metadata": {},
     "output_type": "execute_result"
    }
   ],
   "source": [
    "df_thal = pd.crosstab(df.thalassemia,df.target)\n",
    "df_thal"
   ]
  },
  {
   "cell_type": "code",
   "execution_count": 228,
   "metadata": {},
   "outputs": [
    {
     "name": "stdout",
     "output_type": "stream",
     "text": [
      "0.01 > 0.0\n",
      "Reject Null hypothesis, there is relationship between thalassemia and heart disease \n"
     ]
    }
   ],
   "source": [
    "alpha = 0.01\n",
    "statistic,pval,deg_of_freed,exp_cnt = stats.chi2_contingency(df_thal)\n",
    "print(alpha ,'>', round(pvalue,3))\n",
    "print('Reject Null hypothesis, there is relationship between thalassemia and heart disease ')"
   ]
  },
  {
   "cell_type": "markdown",
   "metadata": {},
   "source": [
    "### Chi square test of independence for categorical data checking whether heart disease is independent from resting electrocardiographic\n",
    "\n",
    "null hypothesis: there is independence between heart disease and the resting electrocardiographic levels\n",
    "\n",
    "alternate hypothesis: there is not independence between heart disease and the resting electrocardiographic levels"
   ]
  },
  {
   "cell_type": "code",
   "execution_count": 229,
   "metadata": {},
   "outputs": [
    {
     "data": {
      "text/html": [
       "<div>\n",
       "<style scoped>\n",
       "    .dataframe tbody tr th:only-of-type {\n",
       "        vertical-align: middle;\n",
       "    }\n",
       "\n",
       "    .dataframe tbody tr th {\n",
       "        vertical-align: top;\n",
       "    }\n",
       "\n",
       "    .dataframe thead th {\n",
       "        text-align: right;\n",
       "    }\n",
       "</style>\n",
       "<table border=\"1\" class=\"dataframe\">\n",
       "  <thead>\n",
       "    <tr style=\"text-align: right;\">\n",
       "      <th>target</th>\n",
       "      <th>0</th>\n",
       "      <th>1</th>\n",
       "    </tr>\n",
       "    <tr>\n",
       "      <th>rest_ecg</th>\n",
       "      <th></th>\n",
       "      <th></th>\n",
       "    </tr>\n",
       "  </thead>\n",
       "  <tbody>\n",
       "    <tr>\n",
       "      <td>0</td>\n",
       "      <td>74</td>\n",
       "      <td>65</td>\n",
       "    </tr>\n",
       "    <tr>\n",
       "      <td>1</td>\n",
       "      <td>53</td>\n",
       "      <td>96</td>\n",
       "    </tr>\n",
       "    <tr>\n",
       "      <td>2</td>\n",
       "      <td>3</td>\n",
       "      <td>1</td>\n",
       "    </tr>\n",
       "  </tbody>\n",
       "</table>\n",
       "</div>"
      ],
      "text/plain": [
       "target     0   1\n",
       "rest_ecg        \n",
       "0         74  65\n",
       "1         53  96\n",
       "2          3   1"
      ]
     },
     "execution_count": 229,
     "metadata": {},
     "output_type": "execute_result"
    }
   ],
   "source": [
    "df_recg = pd.crosstab(df['rest_ecg'],df['target'])\n",
    "df_recg"
   ]
  },
  {
   "cell_type": "code",
   "execution_count": 231,
   "metadata": {},
   "outputs": [
    {
     "name": "stdout",
     "output_type": "stream",
     "text": [
      "0.01 > 0.0\n",
      "Reject Null hypothesis, there is a relationship between the resting electrocardiographic \n",
      "results and heart disease\n"
     ]
    }
   ],
   "source": [
    "statistic,pval,deg_of_freed,exp_cnt = stats.chi2_contingency(df_recg)\n",
    "print(alpha ,'>', round(pvalue,3))\n",
    "print('Reject Null hypothesis, there is a relationship between the resting electrocardiographic \\nresults and heart disease')"
   ]
  },
  {
   "cell_type": "markdown",
   "metadata": {},
   "source": [
    "### Chi square test of independence for categorical data checking whether heart disease is independent from chest pain \n",
    "\n",
    "null hypothesis: there is independence between heart disease and chest pain\n",
    "\n",
    "alternate hypothesis: there is not independence between heart disease and chest pain"
   ]
  },
  {
   "cell_type": "code",
   "execution_count": 70,
   "metadata": {},
   "outputs": [
    {
     "data": {
      "text/html": [
       "<div>\n",
       "<style scoped>\n",
       "    .dataframe tbody tr th:only-of-type {\n",
       "        vertical-align: middle;\n",
       "    }\n",
       "\n",
       "    .dataframe tbody tr th {\n",
       "        vertical-align: top;\n",
       "    }\n",
       "\n",
       "    .dataframe thead th {\n",
       "        text-align: right;\n",
       "    }\n",
       "</style>\n",
       "<table border=\"1\" class=\"dataframe\">\n",
       "  <thead>\n",
       "    <tr style=\"text-align: right;\">\n",
       "      <th>target</th>\n",
       "      <th>0</th>\n",
       "      <th>1</th>\n",
       "    </tr>\n",
       "    <tr>\n",
       "      <th>chest_pain</th>\n",
       "      <th></th>\n",
       "      <th></th>\n",
       "    </tr>\n",
       "  </thead>\n",
       "  <tbody>\n",
       "    <tr>\n",
       "      <td>0</td>\n",
       "      <td>97</td>\n",
       "      <td>39</td>\n",
       "    </tr>\n",
       "    <tr>\n",
       "      <td>1</td>\n",
       "      <td>8</td>\n",
       "      <td>41</td>\n",
       "    </tr>\n",
       "    <tr>\n",
       "      <td>2</td>\n",
       "      <td>18</td>\n",
       "      <td>66</td>\n",
       "    </tr>\n",
       "    <tr>\n",
       "      <td>3</td>\n",
       "      <td>7</td>\n",
       "      <td>16</td>\n",
       "    </tr>\n",
       "  </tbody>\n",
       "</table>\n",
       "</div>"
      ],
      "text/plain": [
       "target       0   1\n",
       "chest_pain        \n",
       "0           97  39\n",
       "1            8  41\n",
       "2           18  66\n",
       "3            7  16"
      ]
     },
     "execution_count": 70,
     "metadata": {},
     "output_type": "execute_result"
    }
   ],
   "source": [
    "df_cp = pd.crosstab(df['chest_pain'],df['target'])\n",
    "df_cp"
   ]
  },
  {
   "cell_type": "code",
   "execution_count": 232,
   "metadata": {},
   "outputs": [
    {
     "name": "stdout",
     "output_type": "stream",
     "text": [
      "0.01 > 0.0\n",
      "Reject Null hypothesis, there is relationship between chest pain and heart disease\n"
     ]
    }
   ],
   "source": [
    "statistic,pval,deg_of_freed,exp_cnt = stats.chi2_contingency(df_cp)\n",
    "print(alpha ,'>', round(pvalue,3))\n",
    "print('Reject Null hypothesis, there is relationship between chest pain and heart disease')"
   ]
  },
  {
   "cell_type": "markdown",
   "metadata": {},
   "source": [
    "### Chi square test of independence for categorical data checking whether heart disease is independent from slope of the peak exercise ST segment \n",
    "\n",
    "null hypothesis: there is independence between heart disease and the slope of the peak exercise ST segment \n",
    "\n",
    "alternate hypothesis: there is not independence between heart disease and the slope of the peak exercise ST segment "
   ]
  },
  {
   "cell_type": "code",
   "execution_count": 233,
   "metadata": {},
   "outputs": [
    {
     "data": {
      "text/html": [
       "<div>\n",
       "<style scoped>\n",
       "    .dataframe tbody tr th:only-of-type {\n",
       "        vertical-align: middle;\n",
       "    }\n",
       "\n",
       "    .dataframe tbody tr th {\n",
       "        vertical-align: top;\n",
       "    }\n",
       "\n",
       "    .dataframe thead th {\n",
       "        text-align: right;\n",
       "    }\n",
       "</style>\n",
       "<table border=\"1\" class=\"dataframe\">\n",
       "  <thead>\n",
       "    <tr style=\"text-align: right;\">\n",
       "      <th>target</th>\n",
       "      <th>0</th>\n",
       "      <th>1</th>\n",
       "    </tr>\n",
       "    <tr>\n",
       "      <th>st_slope</th>\n",
       "      <th></th>\n",
       "      <th></th>\n",
       "    </tr>\n",
       "  </thead>\n",
       "  <tbody>\n",
       "    <tr>\n",
       "      <td>0</td>\n",
       "      <td>9</td>\n",
       "      <td>9</td>\n",
       "    </tr>\n",
       "    <tr>\n",
       "      <td>1</td>\n",
       "      <td>87</td>\n",
       "      <td>48</td>\n",
       "    </tr>\n",
       "    <tr>\n",
       "      <td>2</td>\n",
       "      <td>34</td>\n",
       "      <td>105</td>\n",
       "    </tr>\n",
       "  </tbody>\n",
       "</table>\n",
       "</div>"
      ],
      "text/plain": [
       "target     0    1\n",
       "st_slope         \n",
       "0          9    9\n",
       "1         87   48\n",
       "2         34  105"
      ]
     },
     "execution_count": 233,
     "metadata": {},
     "output_type": "execute_result"
    }
   ],
   "source": [
    "df_sts = pd.crosstab(df['st_slope'],df['target'])\n",
    "df_sts"
   ]
  },
  {
   "cell_type": "code",
   "execution_count": 234,
   "metadata": {},
   "outputs": [
    {
     "name": "stdout",
     "output_type": "stream",
     "text": [
      "0.01 > 0.0\n",
      "Reject Null hypothesis, there is relationship between slope of the peak exercise ST segment and heart disease\n"
     ]
    }
   ],
   "source": [
    "statistic,pval,deg_of_freed,exp_cnt = stats.chi2_contingency(df_sts)\n",
    "print(alpha ,'>', round(pvalue,3))\n",
    "print('Reject Null hypothesis, there is relationship between slope of the peak exercise ST segment and heart disease')"
   ]
  }
 ],
 "metadata": {
  "kernelspec": {
   "display_name": "Python 3",
   "language": "python",
   "name": "python3"
  },
  "language_info": {
   "codemirror_mode": {
    "name": "ipython",
    "version": 3
   },
   "file_extension": ".py",
   "mimetype": "text/x-python",
   "name": "python",
   "nbconvert_exporter": "python",
   "pygments_lexer": "ipython3",
   "version": "3.7.4"
  }
 },
 "nbformat": 4,
 "nbformat_minor": 2
}
